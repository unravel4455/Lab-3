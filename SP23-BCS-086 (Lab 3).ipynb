{
  "nbformat": 4,
  "nbformat_minor": 0,
  "metadata": {
    "colab": {
      "provenance": []
    },
    "kernelspec": {
      "name": "python3",
      "display_name": "Python 3"
    },
    "language_info": {
      "name": "python"
    }
  },
  "cells": [
    {
      "cell_type": "code",
      "execution_count": 3,
      "metadata": {
        "colab": {
          "base_uri": "https://localhost:8080/"
        },
        "id": "P8S7E_ThI3fJ",
        "outputId": "e8001386-c70f-4aa7-a9ac-ac071c844a29"
      },
      "outputs": [
        {
          "output_type": "stream",
          "name": "stdout",
          "text": [
            "DFS traversal:\n",
            "Karachi Hyderabad Sukkur Multan Lahore Islamabad Peshawar Quetta \n",
            "BFS traversal:\n",
            "Karachi Hyderabad Sukkur Multan Quetta Lahore Islamabad Peshawar "
          ]
        }
      ],
      "source": [
        "from collections import deque\n",
        "\n",
        "def dfs(graph, start_node, visited=None):\n",
        "    if visited is None:\n",
        "        visited = set()\n",
        "    visited.add(start_node)\n",
        "    print(start_node, end=\" \")\n",
        "\n",
        "    for neighbor in graph.get(start_node, []):\n",
        "        if neighbor not in visited:\n",
        "            dfs(graph, neighbor, visited)\n",
        "\n",
        "def bfs(graph, start_node):\n",
        "    visited = set()\n",
        "    queue = deque([start_node])\n",
        "    visited.add(start_node)\n",
        "\n",
        "    while queue:\n",
        "        current_node = queue.popleft()\n",
        "        print(current_node, end=\" \")\n",
        "\n",
        "        for neighbor in graph.get(current_node, []):\n",
        "            if neighbor not in visited:\n",
        "                visited.add(neighbor)\n",
        "                queue.append(neighbor)\n",
        "\n",
        "graph = {\n",
        "    'Karachi': ['Hyderabad'],\n",
        "    'Hyderabad': ['Karachi', 'Sukkur'],\n",
        "    'Sukkur': ['Hyderabad', 'Multan', 'Quetta'],\n",
        "    'Multan': ['Sukkur', 'Lahore'],\n",
        "    'Quetta': ['Sukkur'],\n",
        "    'Lahore': ['Multan', 'Islamabad'],\n",
        "    'Islamabad': ['Lahore', 'Peshawar'],\n",
        "    'Peshawar': ['Islamabad']\n",
        "}\n",
        "\n",
        "print(\"DFS traversal:\")\n",
        "dfs(graph, 'Karachi')\n",
        "print(\"\\nBFS traversal:\")\n",
        "bfs(graph, 'Karachi')"
      ]
    }
  ]
}
